{
 "cells": [
  {
   "cell_type": "markdown",
   "id": "4368a22d",
   "metadata": {
    "papermill": {
     "duration": 0.00761,
     "end_time": "2022-07-08T17:34:11.646696",
     "exception": false,
     "start_time": "2022-07-08T17:34:11.639086",
     "status": "completed"
    },
    "tags": []
   },
   "source": [
    "**This notebook is an exercise in the [Data Cleaning](https://www.kaggle.com/learn/data-cleaning) course.  You can reference the tutorial at [this link](https://www.kaggle.com/alexisbcook/parsing-dates).**\n",
    "\n",
    "---\n"
   ]
  },
  {
   "cell_type": "markdown",
   "id": "c38e910b",
   "metadata": {
    "papermill": {
     "duration": 0.006445,
     "end_time": "2022-07-08T17:34:11.660008",
     "exception": false,
     "start_time": "2022-07-08T17:34:11.653563",
     "status": "completed"
    },
    "tags": []
   },
   "source": [
    "In this exercise, you'll apply what you learned in the **Parsing dates** tutorial.\n",
    "\n",
    "# Setup\n",
    "\n",
    "The questions below will give you feedback on your work. Run the following cell to set up the feedback system."
   ]
  },
  {
   "cell_type": "code",
   "execution_count": 1,
   "id": "b5675527",
   "metadata": {
    "execution": {
     "iopub.execute_input": "2022-07-08T17:34:11.675029Z",
     "iopub.status.busy": "2022-07-08T17:34:11.674391Z",
     "iopub.status.idle": "2022-07-08T17:34:12.757906Z",
     "shell.execute_reply": "2022-07-08T17:34:12.756906Z"
    },
    "papermill": {
     "duration": 1.094637,
     "end_time": "2022-07-08T17:34:12.761025",
     "exception": false,
     "start_time": "2022-07-08T17:34:11.666388",
     "status": "completed"
    },
    "tags": []
   },
   "outputs": [
    {
     "name": "stdout",
     "output_type": "stream",
     "text": [
      "Setup Complete\n"
     ]
    }
   ],
   "source": [
    "from learntools.core import binder\n",
    "binder.bind(globals())\n",
    "from learntools.data_cleaning.ex3 import *\n",
    "print(\"Setup Complete\")"
   ]
  },
  {
   "cell_type": "markdown",
   "id": "a339a6ab",
   "metadata": {
    "papermill": {
     "duration": 0.006554,
     "end_time": "2022-07-08T17:34:12.774820",
     "exception": false,
     "start_time": "2022-07-08T17:34:12.768266",
     "status": "completed"
    },
    "tags": []
   },
   "source": [
    "# Get our environment set up\n",
    "\n",
    "The first thing we'll need to do is load in the libraries and dataset we'll be using. We'll be working with a dataset containing information on earthquakes that occured between 1965 and 2016."
   ]
  },
  {
   "cell_type": "code",
   "execution_count": 2,
   "id": "a5380777",
   "metadata": {
    "execution": {
     "iopub.execute_input": "2022-07-08T17:34:12.790594Z",
     "iopub.status.busy": "2022-07-08T17:34:12.789097Z",
     "iopub.status.idle": "2022-07-08T17:34:12.882406Z",
     "shell.execute_reply": "2022-07-08T17:34:12.881193Z"
    },
    "papermill": {
     "duration": 0.105176,
     "end_time": "2022-07-08T17:34:12.886794",
     "exception": false,
     "start_time": "2022-07-08T17:34:12.781618",
     "status": "completed"
    },
    "tags": []
   },
   "outputs": [],
   "source": [
    "# modules we'll use\n",
    "import pandas as pd\n",
    "import numpy as np\n",
    "import seaborn as sns\n",
    "import datetime\n",
    "\n",
    "# read in our data\n",
    "earthquakes = pd.read_csv(\"../input/earthquake-database/database.csv\")\n",
    "\n",
    "# set seed for reproducibility\n",
    "np.random.seed(0)"
   ]
  },
  {
   "cell_type": "markdown",
   "id": "681cc4d6",
   "metadata": {
    "papermill": {
     "duration": 0.00904,
     "end_time": "2022-07-08T17:34:12.907412",
     "exception": false,
     "start_time": "2022-07-08T17:34:12.898372",
     "status": "completed"
    },
    "tags": []
   },
   "source": [
    "# 1) Check the data type of our date column\n",
    "\n",
    "You'll be working with the \"Date\" column from the `earthquakes` dataframe.  Investigate this column now: does it look like it contains dates?  What is the dtype of the column?"
   ]
  },
  {
   "cell_type": "code",
   "execution_count": 3,
   "id": "24665fd7",
   "metadata": {
    "execution": {
     "iopub.execute_input": "2022-07-08T17:34:12.935735Z",
     "iopub.status.busy": "2022-07-08T17:34:12.934505Z",
     "iopub.status.idle": "2022-07-08T17:34:12.950489Z",
     "shell.execute_reply": "2022-07-08T17:34:12.949327Z"
    },
    "papermill": {
     "duration": 0.033997,
     "end_time": "2022-07-08T17:34:12.953421",
     "exception": false,
     "start_time": "2022-07-08T17:34:12.919424",
     "status": "completed"
    },
    "tags": []
   },
   "outputs": [
    {
     "data": {
      "text/plain": [
       "dtype('O')"
      ]
     },
     "execution_count": 3,
     "metadata": {},
     "output_type": "execute_result"
    }
   ],
   "source": [
    "# TODO: Your code here!\n",
    "\n",
    "earthquakes['Date'].dtype"
   ]
  },
  {
   "cell_type": "markdown",
   "id": "c4aadb63",
   "metadata": {
    "papermill": {
     "duration": 0.011207,
     "end_time": "2022-07-08T17:34:12.978214",
     "exception": false,
     "start_time": "2022-07-08T17:34:12.967007",
     "status": "completed"
    },
    "tags": []
   },
   "source": [
    "Once you have answered the question above, run the code cell below to get credit for your work."
   ]
  },
  {
   "cell_type": "code",
   "execution_count": 4,
   "id": "aa1c9293",
   "metadata": {
    "execution": {
     "iopub.execute_input": "2022-07-08T17:34:13.003668Z",
     "iopub.status.busy": "2022-07-08T17:34:13.003289Z",
     "iopub.status.idle": "2022-07-08T17:34:13.012702Z",
     "shell.execute_reply": "2022-07-08T17:34:13.011578Z"
    },
    "papermill": {
     "duration": 0.025915,
     "end_time": "2022-07-08T17:34:13.016095",
     "exception": false,
     "start_time": "2022-07-08T17:34:12.990180",
     "status": "completed"
    },
    "tags": []
   },
   "outputs": [
    {
     "data": {
      "application/javascript": [
       "parent.postMessage({\"jupyterEvent\": \"custom.exercise_interaction\", \"data\": {\"outcomeType\": 1, \"valueTowardsCompletion\": 0.25, \"interactionType\": 1, \"questionType\": 4, \"questionId\": \"1_CheckDtype\", \"learnToolsVersion\": \"0.3.4\", \"failureMessage\": \"\", \"exceptionClass\": \"\", \"trace\": \"\"}}, \"*\")"
      ],
      "text/plain": [
       "<IPython.core.display.Javascript object>"
      ]
     },
     "metadata": {},
     "output_type": "display_data"
    },
    {
     "data": {
      "text/markdown": [
       "<span style=\"color:#33cc33\">Correct:</span> \n",
       "\n",
       "The \"Date\" column in the `earthquakes` DataFrame does have dates.  The dtype is \"object\"."
      ],
      "text/plain": [
       "Correct: \n",
       "\n",
       "The \"Date\" column in the `earthquakes` DataFrame does have dates.  The dtype is \"object\"."
      ]
     },
     "metadata": {},
     "output_type": "display_data"
    }
   ],
   "source": [
    "# Check your answer (Run this code cell to receive credit!)\n",
    "q1.check()"
   ]
  },
  {
   "cell_type": "code",
   "execution_count": 5,
   "id": "7d68d60a",
   "metadata": {
    "execution": {
     "iopub.execute_input": "2022-07-08T17:34:13.039976Z",
     "iopub.status.busy": "2022-07-08T17:34:13.039603Z",
     "iopub.status.idle": "2022-07-08T17:34:13.043711Z",
     "shell.execute_reply": "2022-07-08T17:34:13.042826Z"
    },
    "papermill": {
     "duration": 0.020279,
     "end_time": "2022-07-08T17:34:13.047902",
     "exception": false,
     "start_time": "2022-07-08T17:34:13.027623",
     "status": "completed"
    },
    "tags": []
   },
   "outputs": [],
   "source": [
    "# Line below will give you a hint\n",
    "#q1.hint()"
   ]
  },
  {
   "cell_type": "markdown",
   "id": "eea7604a",
   "metadata": {
    "papermill": {
     "duration": 0.011398,
     "end_time": "2022-07-08T17:34:13.070661",
     "exception": false,
     "start_time": "2022-07-08T17:34:13.059263",
     "status": "completed"
    },
    "tags": []
   },
   "source": [
    "# 2) Convert our date columns to datetime\n",
    "\n",
    "Most of the entries in the \"Date\" column follow the same format: \"month/day/four-digit year\".  However, the entry at index 3378 follows a completely different pattern.  Run the code cell below to see this."
   ]
  },
  {
   "cell_type": "code",
   "execution_count": 6,
   "id": "a3507df3",
   "metadata": {
    "execution": {
     "iopub.execute_input": "2022-07-08T17:34:13.094120Z",
     "iopub.status.busy": "2022-07-08T17:34:13.093759Z",
     "iopub.status.idle": "2022-07-08T17:34:13.135555Z",
     "shell.execute_reply": "2022-07-08T17:34:13.134216Z"
    },
    "papermill": {
     "duration": 0.056423,
     "end_time": "2022-07-08T17:34:13.138210",
     "exception": false,
     "start_time": "2022-07-08T17:34:13.081787",
     "status": "completed"
    },
    "tags": []
   },
   "outputs": [
    {
     "data": {
      "text/html": [
       "<div>\n",
       "<style scoped>\n",
       "    .dataframe tbody tr th:only-of-type {\n",
       "        vertical-align: middle;\n",
       "    }\n",
       "\n",
       "    .dataframe tbody tr th {\n",
       "        vertical-align: top;\n",
       "    }\n",
       "\n",
       "    .dataframe thead th {\n",
       "        text-align: right;\n",
       "    }\n",
       "</style>\n",
       "<table border=\"1\" class=\"dataframe\">\n",
       "  <thead>\n",
       "    <tr style=\"text-align: right;\">\n",
       "      <th></th>\n",
       "      <th>Date</th>\n",
       "      <th>Time</th>\n",
       "      <th>Latitude</th>\n",
       "      <th>Longitude</th>\n",
       "      <th>Type</th>\n",
       "      <th>Depth</th>\n",
       "      <th>Depth Error</th>\n",
       "      <th>Depth Seismic Stations</th>\n",
       "      <th>Magnitude</th>\n",
       "      <th>Magnitude Type</th>\n",
       "      <th>...</th>\n",
       "      <th>Magnitude Seismic Stations</th>\n",
       "      <th>Azimuthal Gap</th>\n",
       "      <th>Horizontal Distance</th>\n",
       "      <th>Horizontal Error</th>\n",
       "      <th>Root Mean Square</th>\n",
       "      <th>ID</th>\n",
       "      <th>Source</th>\n",
       "      <th>Location Source</th>\n",
       "      <th>Magnitude Source</th>\n",
       "      <th>Status</th>\n",
       "    </tr>\n",
       "  </thead>\n",
       "  <tbody>\n",
       "    <tr>\n",
       "      <th>3378</th>\n",
       "      <td>1975-02-23T02:58:41.000Z</td>\n",
       "      <td>1975-02-23T02:58:41.000Z</td>\n",
       "      <td>8.017</td>\n",
       "      <td>124.075</td>\n",
       "      <td>Earthquake</td>\n",
       "      <td>623.0</td>\n",
       "      <td>NaN</td>\n",
       "      <td>NaN</td>\n",
       "      <td>5.6</td>\n",
       "      <td>MB</td>\n",
       "      <td>...</td>\n",
       "      <td>NaN</td>\n",
       "      <td>NaN</td>\n",
       "      <td>NaN</td>\n",
       "      <td>NaN</td>\n",
       "      <td>NaN</td>\n",
       "      <td>USP0000A09</td>\n",
       "      <td>US</td>\n",
       "      <td>US</td>\n",
       "      <td>US</td>\n",
       "      <td>Reviewed</td>\n",
       "    </tr>\n",
       "    <tr>\n",
       "      <th>3379</th>\n",
       "      <td>02/23/1975</td>\n",
       "      <td>03:53:36</td>\n",
       "      <td>-21.727</td>\n",
       "      <td>-71.356</td>\n",
       "      <td>Earthquake</td>\n",
       "      <td>33.0</td>\n",
       "      <td>NaN</td>\n",
       "      <td>NaN</td>\n",
       "      <td>5.6</td>\n",
       "      <td>MB</td>\n",
       "      <td>...</td>\n",
       "      <td>NaN</td>\n",
       "      <td>NaN</td>\n",
       "      <td>NaN</td>\n",
       "      <td>NaN</td>\n",
       "      <td>NaN</td>\n",
       "      <td>USP0000A0A</td>\n",
       "      <td>US</td>\n",
       "      <td>US</td>\n",
       "      <td>US</td>\n",
       "      <td>Reviewed</td>\n",
       "    </tr>\n",
       "    <tr>\n",
       "      <th>3380</th>\n",
       "      <td>02/23/1975</td>\n",
       "      <td>07:34:11</td>\n",
       "      <td>-10.879</td>\n",
       "      <td>166.667</td>\n",
       "      <td>Earthquake</td>\n",
       "      <td>33.0</td>\n",
       "      <td>NaN</td>\n",
       "      <td>NaN</td>\n",
       "      <td>5.5</td>\n",
       "      <td>MS</td>\n",
       "      <td>...</td>\n",
       "      <td>NaN</td>\n",
       "      <td>NaN</td>\n",
       "      <td>NaN</td>\n",
       "      <td>NaN</td>\n",
       "      <td>NaN</td>\n",
       "      <td>USP0000A0C</td>\n",
       "      <td>US</td>\n",
       "      <td>US</td>\n",
       "      <td>US</td>\n",
       "      <td>Reviewed</td>\n",
       "    </tr>\n",
       "    <tr>\n",
       "      <th>3381</th>\n",
       "      <td>02/25/1975</td>\n",
       "      <td>05:20:05</td>\n",
       "      <td>-7.388</td>\n",
       "      <td>149.798</td>\n",
       "      <td>Earthquake</td>\n",
       "      <td>33.0</td>\n",
       "      <td>NaN</td>\n",
       "      <td>NaN</td>\n",
       "      <td>5.5</td>\n",
       "      <td>MB</td>\n",
       "      <td>...</td>\n",
       "      <td>NaN</td>\n",
       "      <td>NaN</td>\n",
       "      <td>NaN</td>\n",
       "      <td>NaN</td>\n",
       "      <td>NaN</td>\n",
       "      <td>USP0000A12</td>\n",
       "      <td>US</td>\n",
       "      <td>US</td>\n",
       "      <td>US</td>\n",
       "      <td>Reviewed</td>\n",
       "    </tr>\n",
       "    <tr>\n",
       "      <th>3382</th>\n",
       "      <td>02/26/1975</td>\n",
       "      <td>04:48:55</td>\n",
       "      <td>85.047</td>\n",
       "      <td>97.969</td>\n",
       "      <td>Earthquake</td>\n",
       "      <td>33.0</td>\n",
       "      <td>NaN</td>\n",
       "      <td>NaN</td>\n",
       "      <td>5.6</td>\n",
       "      <td>MS</td>\n",
       "      <td>...</td>\n",
       "      <td>NaN</td>\n",
       "      <td>NaN</td>\n",
       "      <td>NaN</td>\n",
       "      <td>NaN</td>\n",
       "      <td>NaN</td>\n",
       "      <td>USP0000A1H</td>\n",
       "      <td>US</td>\n",
       "      <td>US</td>\n",
       "      <td>US</td>\n",
       "      <td>Reviewed</td>\n",
       "    </tr>\n",
       "  </tbody>\n",
       "</table>\n",
       "<p>5 rows × 21 columns</p>\n",
       "</div>"
      ],
      "text/plain": [
       "                          Date                      Time  Latitude  Longitude  \\\n",
       "3378  1975-02-23T02:58:41.000Z  1975-02-23T02:58:41.000Z     8.017    124.075   \n",
       "3379                02/23/1975                  03:53:36   -21.727    -71.356   \n",
       "3380                02/23/1975                  07:34:11   -10.879    166.667   \n",
       "3381                02/25/1975                  05:20:05    -7.388    149.798   \n",
       "3382                02/26/1975                  04:48:55    85.047     97.969   \n",
       "\n",
       "            Type  Depth  Depth Error  Depth Seismic Stations  Magnitude  \\\n",
       "3378  Earthquake  623.0          NaN                     NaN        5.6   \n",
       "3379  Earthquake   33.0          NaN                     NaN        5.6   \n",
       "3380  Earthquake   33.0          NaN                     NaN        5.5   \n",
       "3381  Earthquake   33.0          NaN                     NaN        5.5   \n",
       "3382  Earthquake   33.0          NaN                     NaN        5.6   \n",
       "\n",
       "     Magnitude Type  ...  Magnitude Seismic Stations  Azimuthal Gap  \\\n",
       "3378             MB  ...                         NaN            NaN   \n",
       "3379             MB  ...                         NaN            NaN   \n",
       "3380             MS  ...                         NaN            NaN   \n",
       "3381             MB  ...                         NaN            NaN   \n",
       "3382             MS  ...                         NaN            NaN   \n",
       "\n",
       "      Horizontal Distance  Horizontal Error  Root Mean Square          ID  \\\n",
       "3378                  NaN               NaN               NaN  USP0000A09   \n",
       "3379                  NaN               NaN               NaN  USP0000A0A   \n",
       "3380                  NaN               NaN               NaN  USP0000A0C   \n",
       "3381                  NaN               NaN               NaN  USP0000A12   \n",
       "3382                  NaN               NaN               NaN  USP0000A1H   \n",
       "\n",
       "     Source Location Source Magnitude Source    Status  \n",
       "3378     US              US               US  Reviewed  \n",
       "3379     US              US               US  Reviewed  \n",
       "3380     US              US               US  Reviewed  \n",
       "3381     US              US               US  Reviewed  \n",
       "3382     US              US               US  Reviewed  \n",
       "\n",
       "[5 rows x 21 columns]"
      ]
     },
     "execution_count": 6,
     "metadata": {},
     "output_type": "execute_result"
    }
   ],
   "source": [
    "earthquakes[3378:3383]"
   ]
  },
  {
   "cell_type": "markdown",
   "id": "37ccc6c0",
   "metadata": {
    "papermill": {
     "duration": 0.011446,
     "end_time": "2022-07-08T17:34:13.162608",
     "exception": false,
     "start_time": "2022-07-08T17:34:13.151162",
     "status": "completed"
    },
    "tags": []
   },
   "source": [
    "This does appear to be an issue with data entry: ideally, all entries in the column have the same format.  We can get an idea of how widespread this issue is by checking the length of each entry in the \"Date\" column."
   ]
  },
  {
   "cell_type": "code",
   "execution_count": 7,
   "id": "c1987954",
   "metadata": {
    "execution": {
     "iopub.execute_input": "2022-07-08T17:34:13.188126Z",
     "iopub.status.busy": "2022-07-08T17:34:13.187754Z",
     "iopub.status.idle": "2022-07-08T17:34:13.224201Z",
     "shell.execute_reply": "2022-07-08T17:34:13.223302Z"
    },
    "papermill": {
     "duration": 0.05252,
     "end_time": "2022-07-08T17:34:13.226743",
     "exception": false,
     "start_time": "2022-07-08T17:34:13.174223",
     "status": "completed"
    },
    "tags": []
   },
   "outputs": [
    {
     "data": {
      "text/plain": [
       "10    23409\n",
       "24        3\n",
       "Name: Date, dtype: int64"
      ]
     },
     "execution_count": 7,
     "metadata": {},
     "output_type": "execute_result"
    }
   ],
   "source": [
    "date_lengths = earthquakes.Date.str.len()\n",
    "date_lengths.value_counts()"
   ]
  },
  {
   "cell_type": "markdown",
   "id": "3897682e",
   "metadata": {
    "papermill": {
     "duration": 0.011539,
     "end_time": "2022-07-08T17:34:13.251530",
     "exception": false,
     "start_time": "2022-07-08T17:34:13.239991",
     "status": "completed"
    },
    "tags": []
   },
   "source": [
    "Looks like there are two more rows that has a date in a different format.  Run the code cell below to obtain the indices corresponding to those rows and print the data."
   ]
  },
  {
   "cell_type": "code",
   "execution_count": 8,
   "id": "b8b9aa65",
   "metadata": {
    "execution": {
     "iopub.execute_input": "2022-07-08T17:34:13.276692Z",
     "iopub.status.busy": "2022-07-08T17:34:13.276315Z",
     "iopub.status.idle": "2022-07-08T17:34:13.291915Z",
     "shell.execute_reply": "2022-07-08T17:34:13.290987Z"
    },
    "papermill": {
     "duration": 0.032828,
     "end_time": "2022-07-08T17:34:13.296311",
     "exception": false,
     "start_time": "2022-07-08T17:34:13.263483",
     "status": "completed"
    },
    "tags": []
   },
   "outputs": [
    {
     "name": "stdout",
     "output_type": "stream",
     "text": [
      "Indices with corrupted data: [ 3378  7512 20650]\n"
     ]
    },
    {
     "data": {
      "text/plain": [
       "3378     1975-02-23T02:58:41.000Z\n",
       "7512     1985-04-28T02:53:41.530Z\n",
       "20650    2011-03-13T02:23:34.520Z\n",
       "Name: Date, dtype: object"
      ]
     },
     "execution_count": 8,
     "metadata": {},
     "output_type": "execute_result"
    }
   ],
   "source": [
    "indices = np.where([date_lengths == 24])[1]\n",
    "print('Indices with corrupted data:', indices)\n",
    "earthquakes.loc[indices]['Date']"
   ]
  },
  {
   "cell_type": "markdown",
   "id": "77f1de3b",
   "metadata": {
    "papermill": {
     "duration": 0.012052,
     "end_time": "2022-07-08T17:34:13.321002",
     "exception": false,
     "start_time": "2022-07-08T17:34:13.308950",
     "status": "completed"
    },
    "tags": []
   },
   "source": [
    "Given all of this information, it's your turn to create a new column \"date_parsed\" in the `earthquakes` dataset that has correctly parsed dates in it.  \n",
    "\n",
    "**Note**: When completing this problem, you are allowed to (but are not required to) amend the entries in the \"Date\" and \"Time\" columns.  Do not remove any rows from the dataset."
   ]
  },
  {
   "cell_type": "code",
   "execution_count": 9,
   "id": "c4ae11a7",
   "metadata": {
    "execution": {
     "iopub.execute_input": "2022-07-08T17:34:13.346716Z",
     "iopub.status.busy": "2022-07-08T17:34:13.346316Z",
     "iopub.status.idle": "2022-07-08T17:34:13.356751Z",
     "shell.execute_reply": "2022-07-08T17:34:13.355872Z"
    },
    "papermill": {
     "duration": 0.026542,
     "end_time": "2022-07-08T17:34:13.359602",
     "exception": false,
     "start_time": "2022-07-08T17:34:13.333060",
     "status": "completed"
    },
    "tags": []
   },
   "outputs": [
    {
     "data": {
      "text/plain": [
       "'1985-04-28T02:53:41.530Z'"
      ]
     },
     "execution_count": 9,
     "metadata": {},
     "output_type": "execute_result"
    }
   ],
   "source": [
    "earthquakes.loc[7512,'Date']"
   ]
  },
  {
   "cell_type": "code",
   "execution_count": 10,
   "id": "9b7b0a3b",
   "metadata": {
    "execution": {
     "iopub.execute_input": "2022-07-08T17:34:13.385542Z",
     "iopub.status.busy": "2022-07-08T17:34:13.385213Z",
     "iopub.status.idle": "2022-07-08T17:34:13.471035Z",
     "shell.execute_reply": "2022-07-08T17:34:13.470079Z"
    },
    "papermill": {
     "duration": 0.100772,
     "end_time": "2022-07-08T17:34:13.473051",
     "exception": false,
     "start_time": "2022-07-08T17:34:13.372279",
     "status": "completed"
    },
    "tags": []
   },
   "outputs": [
    {
     "data": {
      "application/javascript": [
       "parent.postMessage({\"jupyterEvent\": \"custom.exercise_interaction\", \"data\": {\"outcomeType\": 1, \"valueTowardsCompletion\": 0.25, \"interactionType\": 1, \"questionType\": 2, \"questionId\": \"2_ConvertToDatetime\", \"learnToolsVersion\": \"0.3.4\", \"failureMessage\": \"\", \"exceptionClass\": \"\", \"trace\": \"\"}}, \"*\")"
      ],
      "text/plain": [
       "<IPython.core.display.Javascript object>"
      ]
     },
     "metadata": {},
     "output_type": "display_data"
    },
    {
     "data": {
      "text/markdown": [
       "<span style=\"color:#33cc33\">Correct</span>"
      ],
      "text/plain": [
       "Correct"
      ]
     },
     "metadata": {},
     "output_type": "display_data"
    }
   ],
   "source": [
    "# TODO: Your code here\n",
    "earthquakes.loc[3378, \"Date\"] = \"02/23/1975\"\n",
    "earthquakes.loc[7512, \"Date\"] = \"04/28/1985\"\n",
    "earthquakes.loc[20650, \"Date\"] = \"03/13/2011\"\n",
    "earthquakes['date_parsed'] = pd.to_datetime(earthquakes['Date'], format=\"%m/%d/%Y\")\n",
    "# Check your answer\n",
    "q2.check()"
   ]
  },
  {
   "cell_type": "code",
   "execution_count": 11,
   "id": "b0094605",
   "metadata": {
    "execution": {
     "iopub.execute_input": "2022-07-08T17:34:13.491198Z",
     "iopub.status.busy": "2022-07-08T17:34:13.490321Z",
     "iopub.status.idle": "2022-07-08T17:34:13.494702Z",
     "shell.execute_reply": "2022-07-08T17:34:13.493792Z"
    },
    "papermill": {
     "duration": 0.015642,
     "end_time": "2022-07-08T17:34:13.496795",
     "exception": false,
     "start_time": "2022-07-08T17:34:13.481153",
     "status": "completed"
    },
    "tags": []
   },
   "outputs": [],
   "source": [
    "# Lines below will give you a hint or solution code\n",
    "#q2.hint()\n",
    "#q2.solution()"
   ]
  },
  {
   "cell_type": "markdown",
   "id": "65bc9ad2",
   "metadata": {
    "papermill": {
     "duration": 0.008368,
     "end_time": "2022-07-08T17:34:13.513123",
     "exception": false,
     "start_time": "2022-07-08T17:34:13.504755",
     "status": "completed"
    },
    "tags": []
   },
   "source": [
    "# 3) Select the day of the month\n",
    "\n",
    "Create a Pandas Series `day_of_month_earthquakes` containing the day of the month from the \"date_parsed\" column."
   ]
  },
  {
   "cell_type": "code",
   "execution_count": 12,
   "id": "2912c8e0",
   "metadata": {
    "execution": {
     "iopub.execute_input": "2022-07-08T17:34:13.530268Z",
     "iopub.status.busy": "2022-07-08T17:34:13.529964Z",
     "iopub.status.idle": "2022-07-08T17:34:13.541243Z",
     "shell.execute_reply": "2022-07-08T17:34:13.539161Z"
    },
    "papermill": {
     "duration": 0.022102,
     "end_time": "2022-07-08T17:34:13.543226",
     "exception": false,
     "start_time": "2022-07-08T17:34:13.521124",
     "status": "completed"
    },
    "tags": []
   },
   "outputs": [
    {
     "data": {
      "application/javascript": [
       "parent.postMessage({\"jupyterEvent\": \"custom.exercise_interaction\", \"data\": {\"outcomeType\": 1, \"valueTowardsCompletion\": 0.25, \"interactionType\": 1, \"questionType\": 1, \"questionId\": \"3_DayOfMonth\", \"learnToolsVersion\": \"0.3.4\", \"failureMessage\": \"\", \"exceptionClass\": \"\", \"trace\": \"\"}}, \"*\")"
      ],
      "text/plain": [
       "<IPython.core.display.Javascript object>"
      ]
     },
     "metadata": {},
     "output_type": "display_data"
    },
    {
     "data": {
      "text/markdown": [
       "<span style=\"color:#33cc33\">Correct</span>"
      ],
      "text/plain": [
       "Correct"
      ]
     },
     "metadata": {},
     "output_type": "display_data"
    }
   ],
   "source": [
    "# try to get the day of the month from the date column\n",
    "#earthquakes['Date']=earthquakes['Date'].dt.strftime('%Y-%m-%d')\n",
    "day_of_month_earthquakes = earthquakes['date_parsed'].dt.day\n",
    "\n",
    "# Check your answer\n",
    "q3.check()"
   ]
  },
  {
   "cell_type": "code",
   "execution_count": 13,
   "id": "c11f4bfb",
   "metadata": {
    "execution": {
     "iopub.execute_input": "2022-07-08T17:34:13.561549Z",
     "iopub.status.busy": "2022-07-08T17:34:13.561222Z",
     "iopub.status.idle": "2022-07-08T17:34:13.566261Z",
     "shell.execute_reply": "2022-07-08T17:34:13.565451Z"
    },
    "papermill": {
     "duration": 0.016835,
     "end_time": "2022-07-08T17:34:13.568180",
     "exception": false,
     "start_time": "2022-07-08T17:34:13.551345",
     "status": "completed"
    },
    "tags": []
   },
   "outputs": [],
   "source": [
    "# Lines below will give you a hint or solution code\n",
    "#q3.hint()\n",
    "#q3.solution()"
   ]
  },
  {
   "cell_type": "markdown",
   "id": "e1684fa5",
   "metadata": {
    "papermill": {
     "duration": 0.008149,
     "end_time": "2022-07-08T17:34:13.584383",
     "exception": false,
     "start_time": "2022-07-08T17:34:13.576234",
     "status": "completed"
    },
    "tags": []
   },
   "source": [
    "# 4) Plot the day of the month to check the date parsing\n",
    "\n",
    "Plot the days of the month from your earthquake dataset."
   ]
  },
  {
   "cell_type": "code",
   "execution_count": 14,
   "id": "a77b37ec",
   "metadata": {
    "execution": {
     "iopub.execute_input": "2022-07-08T17:34:13.601782Z",
     "iopub.status.busy": "2022-07-08T17:34:13.601516Z",
     "iopub.status.idle": "2022-07-08T17:34:13.845115Z",
     "shell.execute_reply": "2022-07-08T17:34:13.843983Z"
    },
    "papermill": {
     "duration": 0.254842,
     "end_time": "2022-07-08T17:34:13.847418",
     "exception": false,
     "start_time": "2022-07-08T17:34:13.592576",
     "status": "completed"
    },
    "tags": []
   },
   "outputs": [
    {
     "name": "stderr",
     "output_type": "stream",
     "text": [
      "/opt/conda/lib/python3.7/site-packages/seaborn/distributions.py:2619: FutureWarning: `distplot` is a deprecated function and will be removed in a future version. Please adapt your code to use either `displot` (a figure-level function with similar flexibility) or `histplot` (an axes-level function for histograms).\n",
      "  warnings.warn(msg, FutureWarning)\n"
     ]
    },
    {
     "data": {
      "text/plain": [
       "<AxesSubplot:xlabel='date_parsed'>"
      ]
     },
     "execution_count": 14,
     "metadata": {},
     "output_type": "execute_result"
    },
    {
     "data": {
      "image/png": "[encoded data removed]",
      "text/plain": [
       "<Figure size 432x288 with 1 Axes>"
      ]
     },
     "metadata": {
      "needs_background": "light"
     },
     "output_type": "display_data"
    }
   ],
   "source": [
    "# TODO: Your code here!\n",
    "\n",
    "day_of_month_earthquakes = day_of_month_earthquakes.dropna()\n",
    "\n",
    "# plot the day of the month\n",
    "sns.distplot(day_of_month_earthquakes, kde=False, bins=31)\n",
    "\n"
   ]
  },
  {
   "cell_type": "markdown",
   "id": "06443dd1",
   "metadata": {
    "papermill": {
     "duration": 0.008399,
     "end_time": "2022-07-08T17:34:13.864660",
     "exception": false,
     "start_time": "2022-07-08T17:34:13.856261",
     "status": "completed"
    },
    "tags": []
   },
   "source": [
    "Does the graph make sense to you?"
   ]
  },
  {
   "cell_type": "code",
   "execution_count": 15,
   "id": "31f06555",
   "metadata": {
    "execution": {
     "iopub.execute_input": "2022-07-08T17:34:13.885188Z",
     "iopub.status.busy": "2022-07-08T17:34:13.883548Z",
     "iopub.status.idle": "2022-07-08T17:34:13.893474Z",
     "shell.execute_reply": "2022-07-08T17:34:13.892521Z"
    },
    "papermill": {
     "duration": 0.021636,
     "end_time": "2022-07-08T17:34:13.895440",
     "exception": false,
     "start_time": "2022-07-08T17:34:13.873804",
     "status": "completed"
    },
    "tags": []
   },
   "outputs": [
    {
     "data": {
      "application/javascript": [
       "parent.postMessage({\"jupyterEvent\": \"custom.exercise_interaction\", \"data\": {\"outcomeType\": 1, \"valueTowardsCompletion\": 0.25, \"interactionType\": 1, \"questionType\": 4, \"questionId\": \"4_PlotDayOfMonth\", \"learnToolsVersion\": \"0.3.4\", \"failureMessage\": \"\", \"exceptionClass\": \"\", \"trace\": \"\"}}, \"*\")"
      ],
      "text/plain": [
       "<IPython.core.display.Javascript object>"
      ]
     },
     "metadata": {},
     "output_type": "display_data"
    },
    {
     "data": {
      "text/markdown": [
       "<span style=\"color:#33cc33\">Correct:</span> \n",
       "\n",
       "The graph should make sense: it shows a relatively even distribution in days of the month,which is what we would expect."
      ],
      "text/plain": [
       "Correct: \n",
       "\n",
       "The graph should make sense: it shows a relatively even distribution in days of the month,which is what we would expect."
      ]
     },
     "metadata": {},
     "output_type": "display_data"
    }
   ],
   "source": [
    "# Check your answer (Run this code cell to receive credit!)\n",
    "q4.check()"
   ]
  },
  {
   "cell_type": "code",
   "execution_count": 16,
   "id": "ea3d1424",
   "metadata": {
    "execution": {
     "iopub.execute_input": "2022-07-08T17:34:13.915552Z",
     "iopub.status.busy": "2022-07-08T17:34:13.915266Z",
     "iopub.status.idle": "2022-07-08T17:34:13.920537Z",
     "shell.execute_reply": "2022-07-08T17:34:13.919583Z"
    },
    "papermill": {
     "duration": 0.018335,
     "end_time": "2022-07-08T17:34:13.922597",
     "exception": false,
     "start_time": "2022-07-08T17:34:13.904262",
     "status": "completed"
    },
    "tags": []
   },
   "outputs": [],
   "source": [
    "# Line below will give you a hint\n",
    "#q4.hint()"
   ]
  },
  {
   "cell_type": "markdown",
   "id": "07616e30",
   "metadata": {
    "papermill": {
     "duration": 0.008833,
     "end_time": "2022-07-08T17:34:13.940570",
     "exception": false,
     "start_time": "2022-07-08T17:34:13.931737",
     "status": "completed"
    },
    "tags": []
   },
   "source": [
    "# (Optional) Bonus Challenge\n",
    "\n",
    "For an extra challenge, you'll work with a [Smithsonian dataset](https://www.kaggle.com/smithsonian/volcanic-eruptions) that documents Earth's volcanoes and their eruptive history over the past 10,000 years \n",
    "\n",
    "Run the next code cell to load the data."
   ]
  },
  {
   "cell_type": "code",
   "execution_count": 17,
   "id": "405fea99",
   "metadata": {
    "execution": {
     "iopub.execute_input": "2022-07-08T17:34:13.959197Z",
     "iopub.status.busy": "2022-07-08T17:34:13.958869Z",
     "iopub.status.idle": "2022-07-08T17:34:13.978769Z",
     "shell.execute_reply": "2022-07-08T17:34:13.977880Z"
    },
    "papermill": {
     "duration": 0.031744,
     "end_time": "2022-07-08T17:34:13.980933",
     "exception": false,
     "start_time": "2022-07-08T17:34:13.949189",
     "status": "completed"
    },
    "tags": []
   },
   "outputs": [],
   "source": [
    "volcanos = pd.read_csv(\"../input/volcanic-eruptions/database.csv\")"
   ]
  },
  {
   "cell_type": "markdown",
   "id": "aaa6e104",
   "metadata": {
    "papermill": {
     "duration": 0.008949,
     "end_time": "2022-07-08T17:34:13.999009",
     "exception": false,
     "start_time": "2022-07-08T17:34:13.990060",
     "status": "completed"
    },
    "tags": []
   },
   "source": [
    "Try parsing the column \"Last Known Eruption\" from the `volcanos` dataframe. This column contains a mixture of text (\"Unknown\") and years both before the common era (BCE, also known as BC) and in the common era (CE, also known as AD)."
   ]
  },
  {
   "cell_type": "code",
   "execution_count": 18,
   "id": "c510e345",
   "metadata": {
    "execution": {
     "iopub.execute_input": "2022-07-08T17:34:14.020264Z",
     "iopub.status.busy": "2022-07-08T17:34:14.019219Z",
     "iopub.status.idle": "2022-07-08T17:34:14.028273Z",
     "shell.execute_reply": "2022-07-08T17:34:14.027330Z"
    },
    "papermill": {
     "duration": 0.022138,
     "end_time": "2022-07-08T17:34:14.030385",
     "exception": false,
     "start_time": "2022-07-08T17:34:14.008247",
     "status": "completed"
    },
    "tags": []
   },
   "outputs": [
    {
     "data": {
      "text/plain": [
       "764     Unknown\n",
       "1069    1996 CE\n",
       "34      1855 CE\n",
       "489     2016 CE\n",
       "9       1302 CE\n",
       "Name: Last Known Eruption, dtype: object"
      ]
     },
     "execution_count": 18,
     "metadata": {},
     "output_type": "execute_result"
    }
   ],
   "source": [
    "volcanos['Last Known Eruption'].sample(5)"
   ]
  },
  {
   "cell_type": "markdown",
   "id": "7d72269e",
   "metadata": {
    "papermill": {
     "duration": 0.008629,
     "end_time": "2022-07-08T17:34:14.048591",
     "exception": false,
     "start_time": "2022-07-08T17:34:14.039962",
     "status": "completed"
    },
    "tags": []
   },
   "source": [
    "# (Optional) More practice\n",
    "\n",
    "If you're interested in graphing time series, [check out this tutorial](https://www.kaggle.com/residentmario/time-series-plotting-optional).\n",
    "\n",
    "You can also look into passing columns that you know have dates in them  the `parse_dates` argument in `read_csv`. (The documention [is here](https://pandas.pydata.org/pandas-docs/stable/generated/pandas.read_csv.html).) Do note that this method can be very slow, but depending on your needs it may sometimes be handy to use.\n",
    "\n",
    "# Keep going\n",
    "\n",
    "In the next lesson, learn how to [**work with character encodings**](https://www.kaggle.com/alexisbcook/character-encodings)."
   ]
  },
  {
   "cell_type": "markdown",
   "id": "f889242a",
   "metadata": {
    "papermill": {
     "duration": 0.008915,
     "end_time": "2022-07-08T17:34:14.067123",
     "exception": false,
     "start_time": "2022-07-08T17:34:14.058208",
     "status": "completed"
    },
    "tags": []
   },
   "source": [
    "---\n",
    "\n",
    "\n",
    "\n",
    "\n",
    "*Have questions or comments? Visit the [course discussion forum](https://www.kaggle.com/learn/data-cleaning/discussion) to chat with other learners.*"
   ]
  }
 ],
 "metadata": {
  "kernelspec": {
   "display_name": "Python 3",
   "language": "python",
   "name": "python3"
  },
  "language_info": {
   "codemirror_mode": {
    "name": "ipython",
    "version": 3
   },
   "file_extension": ".py",
   "mimetype": "text/x-python",
   "name": "python",
   "nbconvert_exporter": "python",
   "pygments_lexer": "ipython3",
   "version": "3.7.12"
  },
  "papermill": {
   "default_parameters": {},
   "duration": 11.196807,
   "end_time": "2022-07-08T17:34:14.596043",
   "environment_variables": {},
   "exception": null,
   "input_path": "__notebook__.ipynb",
   "output_path": "__notebook__.ipynb",
   "parameters": {},
   "start_time": "2022-07-08T17:34:03.399236",
   "version": "2.3.4"
  }
 },
 "nbformat": 4,
 "nbformat_minor": 5
}
