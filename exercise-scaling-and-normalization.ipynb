{
 "cells": [
  {
   "cell_type": "markdown",
   "id": "4a207838",
   "metadata": {
    "papermill": {
     "duration": 0.006078,
     "end_time": "2022-07-08T14:54:30.589161",
     "exception": false,
     "start_time": "2022-07-08T14:54:30.583083",
     "status": "completed"
    },
    "tags": []
   },
   "source": [
    "**This notebook is an exercise in the [Data Cleaning](https://www.kaggle.com/learn/data-cleaning) course.  You can reference the tutorial at [this link](https://www.kaggle.com/alexisbcook/scaling-and-normalization).**\n",
    "\n",
    "---\n"
   ]
  },
  {
   "cell_type": "markdown",
   "id": "108b5c32",
   "metadata": {
    "papermill": {
     "duration": 0.004372,
     "end_time": "2022-07-08T14:54:30.598510",
     "exception": false,
     "start_time": "2022-07-08T14:54:30.594138",
     "status": "completed"
    },
    "tags": []
   },
   "source": [
    "In this exercise, you'll apply what you learned in the **Scaling and normalization** tutorial.\n",
    "\n",
    "# Setup\n",
    "\n",
    "The questions below will give you feedback on your work. Run the following cell to set up the feedback system."
   ]
  },
  {
   "cell_type": "code",
   "execution_count": 1,
   "id": "e3dc0593",
   "metadata": {
    "execution": {
     "iopub.execute_input": "2022-07-08T14:54:30.612866Z",
     "iopub.status.busy": "2022-07-08T14:54:30.612243Z",
     "iopub.status.idle": "2022-07-08T14:54:33.791153Z",
     "shell.execute_reply": "2022-07-08T14:54:33.788654Z"
    },
    "papermill": {
     "duration": 3.191056,
     "end_time": "2022-07-08T14:54:33.794354",
     "exception": false,
     "start_time": "2022-07-08T14:54:30.603298",
     "status": "completed"
    },
    "tags": []
   },
   "outputs": [
    {
     "name": "stdout",
     "output_type": "stream",
     "text": [
      "Setup Complete\n"
     ]
    }
   ],
   "source": [
    "from learntools.core import binder\n",
    "binder.bind(globals())\n",
    "from learntools.data_cleaning.ex2 import *\n",
    "print(\"Setup Complete\")"
   ]
  },
  {
   "cell_type": "markdown",
   "id": "84181a64",
   "metadata": {
    "papermill": {
     "duration": 0.00846,
     "end_time": "2022-07-08T14:54:33.811720",
     "exception": false,
     "start_time": "2022-07-08T14:54:33.803260",
     "status": "completed"
    },
    "tags": []
   },
   "source": [
    "# Get our environment set up\n",
    "\n",
    "To practice scaling and normalization, we're going to use a [dataset of Kickstarter campaigns](https://www.kaggle.com/kemical/kickstarter-projects). (Kickstarter is a website where people can ask people to invest in various projects and concept products.)\n",
    "\n",
    "The next code cell loads in the libraries and dataset we'll be using. "
   ]
  },
  {
   "cell_type": "code",
   "execution_count": 2,
   "id": "eb694927",
   "metadata": {
    "execution": {
     "iopub.execute_input": "2022-07-08T14:54:33.830068Z",
     "iopub.status.busy": "2022-07-08T14:54:33.829680Z",
     "iopub.status.idle": "2022-07-08T14:54:35.091444Z",
     "shell.execute_reply": "2022-07-08T14:54:35.090517Z"
    },
    "papermill": {
     "duration": 1.273243,
     "end_time": "2022-07-08T14:54:35.093960",
     "exception": false,
     "start_time": "2022-07-08T14:54:33.820717",
     "status": "completed"
    },
    "tags": []
   },
   "outputs": [],
   "source": [
    "# modules we'll use\n",
    "import pandas as pd\n",
    "import numpy as np\n",
    "\n",
    "# for Box-Cox Transformation\n",
    "from scipy import stats\n",
    "\n",
    "# for min_max scaling\n",
    "from mlxtend.preprocessing import minmax_scaling\n",
    "\n",
    "# plotting modules\n",
    "import seaborn as sns\n",
    "import matplotlib.pyplot as plt\n",
    "\n",
    "# read in all our data\n",
    "kickstarters_2017 = pd.read_csv(\"../input/kickstarter-projects/ks-projects-201801.csv\")\n",
    "\n",
    "# set seed for reproducibility\n",
    "np.random.seed(0)"
   ]
  },
  {
   "cell_type": "markdown",
   "id": "13dfeee3",
   "metadata": {
    "papermill": {
     "duration": 0.004829,
     "end_time": "2022-07-08T14:54:35.103729",
     "exception": false,
     "start_time": "2022-07-08T14:54:35.098900",
     "status": "completed"
    },
    "tags": []
   },
   "source": [
    "Let's start by scaling the goals of each campaign, which is how much money they were asking for.  After scaling, all values lie between 0 and 1."
   ]
  },
  {
   "cell_type": "code",
   "execution_count": 3,
   "id": "a77ddc41",
   "metadata": {
    "execution": {
     "iopub.execute_input": "2022-07-08T14:54:35.114947Z",
     "iopub.status.busy": "2022-07-08T14:54:35.114660Z",
     "iopub.status.idle": "2022-07-08T14:54:35.146561Z",
     "shell.execute_reply": "2022-07-08T14:54:35.145601Z"
    },
    "papermill": {
     "duration": 0.04184,
     "end_time": "2022-07-08T14:54:35.150236",
     "exception": false,
     "start_time": "2022-07-08T14:54:35.108396",
     "status": "completed"
    },
    "tags": []
   },
   "outputs": [
    {
     "name": "stdout",
     "output_type": "stream",
     "text": [
      "Original data\n",
      "Preview:\n",
      "    usd_goal_real\n",
      "0        1533.95\n",
      "1       30000.00\n",
      "2       45000.00\n",
      "3        5000.00\n",
      "4       19500.00\n",
      "Minimum value: 0.01 \n",
      "Maximum value: 166361390.71\n",
      "______________________________\n",
      "\n",
      "Scaled data\n",
      "Preview:\n",
      "    usd_goal_real\n",
      "0       0.000009\n",
      "1       0.000180\n",
      "2       0.000270\n",
      "3       0.000030\n",
      "4       0.000117\n",
      "Minimum value: 0.0 \n",
      "Maximum value: 1.0\n"
     ]
    }
   ],
   "source": [
    "# select the usd_goal_real column\n",
    "original_data = pd.DataFrame(kickstarters_2017.usd_goal_real)\n",
    "\n",
    "# scale the goals from 0 to 1\n",
    "scaled_data = minmax_scaling(original_data, columns=['usd_goal_real'])\n",
    "\n",
    "print('Original data\\nPreview:\\n', original_data.head())\n",
    "print('Minimum value:', float(original_data.min()),\n",
    "      '\\nMaximum value:', float(original_data.max()))\n",
    "print('_'*30)\n",
    "\n",
    "print('\\nScaled data\\nPreview:\\n', scaled_data.head())\n",
    "print('Minimum value:', float(scaled_data.min()),\n",
    "      '\\nMaximum value:', float(scaled_data.max()))"
   ]
  },
  {
   "cell_type": "markdown",
   "id": "9219f52a",
   "metadata": {
    "papermill": {
     "duration": 0.004563,
     "end_time": "2022-07-08T14:54:35.160419",
     "exception": false,
     "start_time": "2022-07-08T14:54:35.155856",
     "status": "completed"
    },
    "tags": []
   },
   "source": [
    "# 1) Practice scaling\n",
    "\n",
    "We just scaled the \"usd_goal_real\" column. What about the \"goal\" column?\n",
    "\n",
    "Begin by running the code cell below to create a DataFrame `original_goal_data` containing the \"goal\" column."
   ]
  },
  {
   "cell_type": "code",
   "execution_count": 4,
   "id": "0f8ba554",
   "metadata": {
    "execution": {
     "iopub.execute_input": "2022-07-08T14:54:35.171676Z",
     "iopub.status.busy": "2022-07-08T14:54:35.170815Z",
     "iopub.status.idle": "2022-07-08T14:54:35.184053Z",
     "shell.execute_reply": "2022-07-08T14:54:35.183044Z"
    },
    "papermill": {
     "duration": 0.021458,
     "end_time": "2022-07-08T14:54:35.186858",
     "exception": false,
     "start_time": "2022-07-08T14:54:35.165400",
     "status": "completed"
    },
    "tags": []
   },
   "outputs": [
    {
     "data": {
      "text/html": [
       "<div>\n",
       "<style scoped>\n",
       "    .dataframe tbody tr th:only-of-type {\n",
       "        vertical-align: middle;\n",
       "    }\n",
       "\n",
       "    .dataframe tbody tr th {\n",
       "        vertical-align: top;\n",
       "    }\n",
       "\n",
       "    .dataframe thead th {\n",
       "        text-align: right;\n",
       "    }\n",
       "</style>\n",
       "<table border=\"1\" class=\"dataframe\">\n",
       "  <thead>\n",
       "    <tr style=\"text-align: right;\">\n",
       "      <th></th>\n",
       "      <th>goal</th>\n",
       "    </tr>\n",
       "  </thead>\n",
       "  <tbody>\n",
       "    <tr>\n",
       "      <th>0</th>\n",
       "      <td>1000.0</td>\n",
       "    </tr>\n",
       "    <tr>\n",
       "      <th>1</th>\n",
       "      <td>30000.0</td>\n",
       "    </tr>\n",
       "    <tr>\n",
       "      <th>2</th>\n",
       "      <td>45000.0</td>\n",
       "    </tr>\n",
       "    <tr>\n",
       "      <th>3</th>\n",
       "      <td>5000.0</td>\n",
       "    </tr>\n",
       "    <tr>\n",
       "      <th>4</th>\n",
       "      <td>19500.0</td>\n",
       "    </tr>\n",
       "  </tbody>\n",
       "</table>\n",
       "</div>"
      ],
      "text/plain": [
       "      goal\n",
       "0   1000.0\n",
       "1  30000.0\n",
       "2  45000.0\n",
       "3   5000.0\n",
       "4  19500.0"
      ]
     },
     "execution_count": 4,
     "metadata": {},
     "output_type": "execute_result"
    }
   ],
   "source": [
    "# select the usd_goal_real column\n",
    "original_goal_data = pd.DataFrame(kickstarters_2017.goal)\n",
    "original_goal_data.head()"
   ]
  },
  {
   "cell_type": "markdown",
   "id": "f4cf881a",
   "metadata": {
    "papermill": {
     "duration": 0.005011,
     "end_time": "2022-07-08T14:54:35.196901",
     "exception": false,
     "start_time": "2022-07-08T14:54:35.191890",
     "status": "completed"
    },
    "tags": []
   },
   "source": [
    "Use `original_goal_data` to create a new DataFrame `scaled_goal_data` with values scaled between 0 and 1. You must use the `minmax_scaling()` function."
   ]
  },
  {
   "cell_type": "code",
   "execution_count": 5,
   "id": "a1c51f3f",
   "metadata": {
    "execution": {
     "iopub.execute_input": "2022-07-08T14:54:35.207726Z",
     "iopub.status.busy": "2022-07-08T14:54:35.207402Z",
     "iopub.status.idle": "2022-07-08T14:54:35.229578Z",
     "shell.execute_reply": "2022-07-08T14:54:35.228582Z"
    },
    "papermill": {
     "duration": 0.03159,
     "end_time": "2022-07-08T14:54:35.233281",
     "exception": false,
     "start_time": "2022-07-08T14:54:35.201691",
     "status": "completed"
    },
    "tags": []
   },
   "outputs": [
    {
     "data": {
      "application/javascript": [
       "parent.postMessage({\"jupyterEvent\": \"custom.exercise_interaction\", \"data\": {\"outcomeType\": 1, \"valueTowardsCompletion\": 0.3333333333333333, \"interactionType\": 1, \"questionType\": 1, \"questionId\": \"1_TryScaling\", \"learnToolsVersion\": \"0.3.4\", \"failureMessage\": \"\", \"exceptionClass\": \"\", \"trace\": \"\"}}, \"*\")"
      ],
      "text/plain": [
       "<IPython.core.display.Javascript object>"
      ]
     },
     "metadata": {},
     "output_type": "display_data"
    },
    {
     "data": {
      "text/markdown": [
       "<span style=\"color:#33cc33\">Correct</span>"
      ],
      "text/plain": [
       "Correct"
      ]
     },
     "metadata": {},
     "output_type": "display_data"
    }
   ],
   "source": [
    "# TODO: Your code here\n",
    "scaled_goal_data = minmax_scaling(original_goal_data, columns=['goal'])\n",
    "\n",
    "# Check your answer\n",
    "q1.check()"
   ]
  },
  {
   "cell_type": "code",
   "execution_count": 6,
   "id": "fc0b0865",
   "metadata": {
    "execution": {
     "iopub.execute_input": "2022-07-08T14:54:35.244842Z",
     "iopub.status.busy": "2022-07-08T14:54:35.244587Z",
     "iopub.status.idle": "2022-07-08T14:54:35.248675Z",
     "shell.execute_reply": "2022-07-08T14:54:35.247728Z"
    },
    "papermill": {
     "duration": 0.012277,
     "end_time": "2022-07-08T14:54:35.250669",
     "exception": false,
     "start_time": "2022-07-08T14:54:35.238392",
     "status": "completed"
    },
    "tags": []
   },
   "outputs": [],
   "source": [
    "# Lines below will give you a hint or solution code\n",
    "#q1.hint()\n",
    "#q1.solution()"
   ]
  },
  {
   "cell_type": "markdown",
   "id": "8e3ccd01",
   "metadata": {
    "papermill": {
     "duration": 0.004967,
     "end_time": "2022-07-08T14:54:35.261026",
     "exception": false,
     "start_time": "2022-07-08T14:54:35.256059",
     "status": "completed"
    },
    "tags": []
   },
   "source": [
    "# 2) Practice normalization\n",
    "\n",
    "Now you'll practice normalization. We begin by normalizing the amount of money pledged to each campaign."
   ]
  },
  {
   "cell_type": "code",
   "execution_count": 7,
   "id": "5c67e9b7",
   "metadata": {
    "execution": {
     "iopub.execute_input": "2022-07-08T14:54:35.272516Z",
     "iopub.status.busy": "2022-07-08T14:54:35.272236Z",
     "iopub.status.idle": "2022-07-08T14:54:35.530423Z",
     "shell.execute_reply": "2022-07-08T14:54:35.528703Z"
    },
    "papermill": {
     "duration": 0.266473,
     "end_time": "2022-07-08T14:54:35.532750",
     "exception": false,
     "start_time": "2022-07-08T14:54:35.266277",
     "status": "completed"
    },
    "tags": []
   },
   "outputs": [
    {
     "name": "stdout",
     "output_type": "stream",
     "text": [
      "Original data\n",
      "Preview:\n",
      " 1     2421.0\n",
      "2      220.0\n",
      "3        1.0\n",
      "4     1283.0\n",
      "5    52375.0\n",
      "Name: usd_pledged_real, dtype: float64\n",
      "Minimum value: 0.45 \n",
      "Maximum value: 20338986.27\n",
      "______________________________\n",
      "\n",
      "Normalized data\n",
      "Preview:\n",
      " 1    10.165143\n",
      "2     6.468598\n",
      "3     0.000000\n",
      "4     9.129277\n",
      "5    15.836853\n",
      "Name: usd_pledged_real, dtype: float64\n",
      "Minimum value: -0.7779954116938302 \n",
      "Maximum value: 30.6905407808541\n"
     ]
    }
   ],
   "source": [
    "# get the index of all positive pledges (Box-Cox only takes positive values)\n",
    "index_of_positive_pledges = kickstarters_2017.usd_pledged_real > 0\n",
    "\n",
    "# get only positive pledges (using their indexes)\n",
    "positive_pledges = kickstarters_2017.usd_pledged_real.loc[index_of_positive_pledges]\n",
    "\n",
    "# normalize the pledges (w/ Box-Cox)\n",
    "normalized_pledges = pd.Series(stats.boxcox(positive_pledges)[0], \n",
    "                               name='usd_pledged_real', index=positive_pledges.index)\n",
    "\n",
    "print('Original data\\nPreview:\\n', positive_pledges.head())\n",
    "print('Minimum value:', float(positive_pledges.min()),\n",
    "      '\\nMaximum value:', float(positive_pledges.max()))\n",
    "print('_'*30)\n",
    "\n",
    "print('\\nNormalized data\\nPreview:\\n', normalized_pledges.head())\n",
    "print('Minimum value:', float(normalized_pledges.min()),\n",
    "      '\\nMaximum value:', float(normalized_pledges.max()))"
   ]
  },
  {
   "cell_type": "markdown",
   "id": "fe52c8e9",
   "metadata": {
    "papermill": {
     "duration": 0.005237,
     "end_time": "2022-07-08T14:54:35.543495",
     "exception": false,
     "start_time": "2022-07-08T14:54:35.538258",
     "status": "completed"
    },
    "tags": []
   },
   "source": [
    "The values have changed significantly with normalization!\n",
    "\n",
    "In the next code cell, you'll take a look at the distribution of the normalized data, where it should now resemble a normal distribution."
   ]
  },
  {
   "cell_type": "code",
   "execution_count": 8,
   "id": "734fc3bf",
   "metadata": {
    "execution": {
     "iopub.execute_input": "2022-07-08T14:54:35.555748Z",
     "iopub.status.busy": "2022-07-08T14:54:35.555125Z",
     "iopub.status.idle": "2022-07-08T14:54:37.414708Z",
     "shell.execute_reply": "2022-07-08T14:54:37.413628Z"
    },
    "papermill": {
     "duration": 1.86799,
     "end_time": "2022-07-08T14:54:37.416738",
     "exception": false,
     "start_time": "2022-07-08T14:54:35.548748",
     "status": "completed"
    },
    "tags": []
   },
   "outputs": [
    {
     "data": {
      "image/png": "[encoded data removed]",
      "text/plain": [
       "<Figure size 432x288 with 1 Axes>"
      ]
     },
     "metadata": {
      "needs_background": "light"
     },
     "output_type": "display_data"
    }
   ],
   "source": [
    "# plot normalized data\n",
    "ax = sns.histplot(normalized_pledges, kde=True)\n",
    "ax.set_title(\"Normalized data\")\n",
    "plt.show()"
   ]
  },
  {
   "cell_type": "markdown",
   "id": "5a426959",
   "metadata": {
    "papermill": {
     "duration": 0.005533,
     "end_time": "2022-07-08T14:54:37.428043",
     "exception": false,
     "start_time": "2022-07-08T14:54:37.422510",
     "status": "completed"
    },
    "tags": []
   },
   "source": [
    "We used the \"usd_pledged_real\" column. Follow the same process to normalize the \"pledged\" column. "
   ]
  },
  {
   "cell_type": "code",
   "execution_count": 9,
   "id": "ec6dbc6e",
   "metadata": {
    "execution": {
     "iopub.execute_input": "2022-07-08T14:54:37.441153Z",
     "iopub.status.busy": "2022-07-08T14:54:37.440323Z",
     "iopub.status.idle": "2022-07-08T14:54:37.699317Z",
     "shell.execute_reply": "2022-07-08T14:54:37.698214Z"
    },
    "papermill": {
     "duration": 0.268529,
     "end_time": "2022-07-08T14:54:37.702425",
     "exception": false,
     "start_time": "2022-07-08T14:54:37.433896",
     "status": "completed"
    },
    "tags": []
   },
   "outputs": [
    {
     "name": "stdout",
     "output_type": "stream",
     "text": [
      "Original data\n",
      "Preview:\n",
      " 1     2421.0\n",
      "2      220.0\n",
      "3        1.0\n",
      "4     1283.0\n",
      "5    52375.0\n",
      "Name: pledged, dtype: float64\n",
      "Minimum value: 1.0 \n",
      "Maximum value: 20338986.27\n",
      "______________________________\n",
      "\n",
      "Normalized data\n",
      "Preview:\n",
      " 1    10.013887\n",
      "2     6.403367\n",
      "3     0.000000\n",
      "4     9.005193\n",
      "5    15.499596\n",
      "Name: pledged, dtype: float64\n",
      "Minimum value: 0.0 \n",
      "Maximum value: 29.630307480932274\n"
     ]
    }
   ],
   "source": [
    "# TODO: Your code here!\n",
    "#kickstarters_2017['pledged'].head()\n",
    "index_of_positive_pledged=kickstarters_2017.pledged>0\n",
    "positive_pledged = kickstarters_2017.pledged.loc[index_of_positive_pledged]\n",
    "\n",
    "# normalize the pledges (w/ Box-Cox)\n",
    "normalized_pledged = pd.Series(stats.boxcox(positive_pledged)[0], \n",
    "                               name='pledged', index=positive_pledged.index)\n",
    "\n",
    "\n",
    "print('Original data\\nPreview:\\n', positive_pledged.head())\n",
    "print('Minimum value:', float(positive_pledged.min()),\n",
    "      '\\nMaximum value:', float(positive_pledged.max()))\n",
    "print('_'*30)\n",
    "\n",
    "print('\\nNormalized data\\nPreview:\\n', normalized_pledged.head())\n",
    "print('Minimum value:', float(normalized_pledged.min()),\n",
    "      '\\nMaximum value:', float(normalized_pledged.max()))"
   ]
  },
  {
   "cell_type": "markdown",
   "id": "f6b30ba8",
   "metadata": {
    "papermill": {
     "duration": 0.005688,
     "end_time": "2022-07-08T14:54:37.714097",
     "exception": false,
     "start_time": "2022-07-08T14:54:37.708409",
     "status": "completed"
    },
    "tags": []
   },
   "source": [
    "How does the normalized \"usd_pledged_real\" column look different from when we normalized the \"pledged\" column?  Or, do they look mostly the same?\n",
    "\n",
    "Once you have an answer, run the code cell below."
   ]
  },
  {
   "cell_type": "code",
   "execution_count": 10,
   "id": "5e78f189",
   "metadata": {
    "execution": {
     "iopub.execute_input": "2022-07-08T14:54:37.726692Z",
     "iopub.status.busy": "2022-07-08T14:54:37.726376Z",
     "iopub.status.idle": "2022-07-08T14:54:37.734132Z",
     "shell.execute_reply": "2022-07-08T14:54:37.733172Z"
    },
    "papermill": {
     "duration": 0.016363,
     "end_time": "2022-07-08T14:54:37.736128",
     "exception": false,
     "start_time": "2022-07-08T14:54:37.719765",
     "status": "completed"
    },
    "tags": []
   },
   "outputs": [
    {
     "data": {
      "application/javascript": [
       "parent.postMessage({\"jupyterEvent\": \"custom.exercise_interaction\", \"data\": {\"outcomeType\": 1, \"valueTowardsCompletion\": 0.3333333333333333, \"interactionType\": 1, \"questionType\": 4, \"questionId\": \"2_TryNormalization\", \"learnToolsVersion\": \"0.3.4\", \"failureMessage\": \"\", \"exceptionClass\": \"\", \"trace\": \"\"}}, \"*\")"
      ],
      "text/plain": [
       "<IPython.core.display.Javascript object>"
      ]
     },
     "metadata": {},
     "output_type": "display_data"
    },
    {
     "data": {
      "text/markdown": [
       "<span style=\"color:#33cc33\">Correct:</span> \n",
       "\n",
       "The distributions in the normalized data look mostly the same."
      ],
      "text/plain": [
       "Correct: \n",
       "\n",
       "The distributions in the normalized data look mostly the same."
      ]
     },
     "metadata": {},
     "output_type": "display_data"
    }
   ],
   "source": [
    "# Check your answer (Run this code cell to receive credit!)\n",
    "q2.check()"
   ]
  },
  {
   "cell_type": "code",
   "execution_count": 11,
   "id": "a873fba4",
   "metadata": {
    "execution": {
     "iopub.execute_input": "2022-07-08T14:54:37.749388Z",
     "iopub.status.busy": "2022-07-08T14:54:37.749123Z",
     "iopub.status.idle": "2022-07-08T14:54:37.752854Z",
     "shell.execute_reply": "2022-07-08T14:54:37.751816Z"
    },
    "papermill": {
     "duration": 0.012397,
     "end_time": "2022-07-08T14:54:37.754783",
     "exception": false,
     "start_time": "2022-07-08T14:54:37.742386",
     "status": "completed"
    },
    "tags": []
   },
   "outputs": [],
   "source": [
    "# Line below will give you a hint\n",
    "#q2.hint()"
   ]
  },
  {
   "cell_type": "markdown",
   "id": "1f4efa22",
   "metadata": {
    "papermill": {
     "duration": 0.006023,
     "end_time": "2022-07-08T14:54:37.766625",
     "exception": false,
     "start_time": "2022-07-08T14:54:37.760602",
     "status": "completed"
    },
    "tags": []
   },
   "source": [
    "# (Optional) More practice\n",
    "\n",
    "Try finding a new dataset and pretend you're preparing to perform a [regression analysis](https://www.kaggle.com/rtatman/the-5-day-regression-challenge). \n",
    "\n",
    "[These datasets are a good start!](https://www.kaggle.com/rtatman/datasets-for-regression-analysis)\n",
    "\n",
    "Pick three or four variables and decide if you need to normalize or scale any of them and, if you think you should, practice applying the correct technique.\n",
    "\n",
    "# Keep going\n",
    "\n",
    "In the next lesson, learn how to [**parse dates**](https://www.kaggle.com/alexisbcook/parsing-dates) in a dataset."
   ]
  },
  {
   "cell_type": "markdown",
   "id": "bd3c8b61",
   "metadata": {
    "papermill": {
     "duration": 0.005991,
     "end_time": "2022-07-08T14:54:37.778529",
     "exception": false,
     "start_time": "2022-07-08T14:54:37.772538",
     "status": "completed"
    },
    "tags": []
   },
   "source": [
    "---\n",
    "\n",
    "\n",
    "\n",
    "\n",
    "*Have questions or comments? Visit the [course discussion forum](https://www.kaggle.com/learn/data-cleaning/discussion) to chat with other learners.*"
   ]
  }
 ],
 "metadata": {
  "kernelspec": {
   "display_name": "Python 3",
   "language": "python",
   "name": "python3"
  },
  "language_info": {
   "codemirror_mode": {
    "name": "ipython",
    "version": 3
   },
   "file_extension": ".py",
   "mimetype": "text/x-python",
   "name": "python",
   "nbconvert_exporter": "python",
   "pygments_lexer": "ipython3",
   "version": "3.7.12"
  },
  "papermill": {
   "default_parameters": {},
   "duration": 15.771168,
   "end_time": "2022-07-08T14:54:38.405193",
   "environment_variables": {},
   "exception": null,
   "input_path": "__notebook__.ipynb",
   "output_path": "__notebook__.ipynb",
   "parameters": {},
   "start_time": "2022-07-08T14:54:22.634025",
   "version": "2.3.4"
  }
 },
 "nbformat": 4,
 "nbformat_minor": 5
}
