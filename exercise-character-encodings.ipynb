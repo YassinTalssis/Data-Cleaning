{
 "cells": [
  {
   "cell_type": "markdown",
   "id": "cbd51ecc",
   "metadata": {
    "papermill": {
     "duration": 0.006477,
     "end_time": "2022-07-09T02:36:20.001114",
     "exception": false,
     "start_time": "2022-07-09T02:36:19.994637",
     "status": "completed"
    },
    "tags": []
   },
   "source": [
    "**This notebook is an exercise in the [Data Cleaning](https://www.kaggle.com/learn/data-cleaning) course.  You can reference the tutorial at [this link](https://www.kaggle.com/alexisbcook/character-encodings).**\n",
    "\n",
    "---\n"
   ]
  },
  {
   "cell_type": "markdown",
   "id": "a28deffe",
   "metadata": {
    "papermill": {
     "duration": 0.005236,
     "end_time": "2022-07-09T02:36:20.012193",
     "exception": false,
     "start_time": "2022-07-09T02:36:20.006957",
     "status": "completed"
    },
    "tags": []
   },
   "source": [
    "In this exercise, you'll apply what you learned in the **Character encodings** tutorial.\n",
    "\n",
    "# Setup\n",
    "\n",
    "The questions below will give you feedback on your work. Run the following cell to set up the feedback system."
   ]
  },
  {
   "cell_type": "code",
   "execution_count": 1,
   "id": "060f4a48",
   "metadata": {
    "execution": {
     "iopub.execute_input": "2022-07-09T02:36:20.025450Z",
     "iopub.status.busy": "2022-07-09T02:36:20.024586Z",
     "iopub.status.idle": "2022-07-09T02:36:20.119728Z",
     "shell.execute_reply": "2022-07-09T02:36:20.118389Z"
    },
    "papermill": {
     "duration": 0.104897,
     "end_time": "2022-07-09T02:36:20.122627",
     "exception": false,
     "start_time": "2022-07-09T02:36:20.017730",
     "status": "completed"
    },
    "tags": []
   },
   "outputs": [
    {
     "name": "stdout",
     "output_type": "stream",
     "text": [
      "Setup Complete\n"
     ]
    }
   ],
   "source": [
    "from learntools.core import binder\n",
    "binder.bind(globals())\n",
    "from learntools.data_cleaning.ex4 import *\n",
    "print(\"Setup Complete\")"
   ]
  },
  {
   "cell_type": "markdown",
   "id": "8ff40a95",
   "metadata": {
    "papermill": {
     "duration": 0.005623,
     "end_time": "2022-07-09T02:36:20.133927",
     "exception": false,
     "start_time": "2022-07-09T02:36:20.128304",
     "status": "completed"
    },
    "tags": []
   },
   "source": [
    "# Get our environment set up\n",
    "\n",
    "The first thing we'll need to do is load in the libraries we'll be using."
   ]
  },
  {
   "cell_type": "code",
   "execution_count": 2,
   "id": "bf4d82d6",
   "metadata": {
    "execution": {
     "iopub.execute_input": "2022-07-09T02:36:20.146929Z",
     "iopub.status.busy": "2022-07-09T02:36:20.146298Z",
     "iopub.status.idle": "2022-07-09T02:36:20.150866Z",
     "shell.execute_reply": "2022-07-09T02:36:20.150033Z"
    },
    "papermill": {
     "duration": 0.013498,
     "end_time": "2022-07-09T02:36:20.152805",
     "exception": false,
     "start_time": "2022-07-09T02:36:20.139307",
     "status": "completed"
    },
    "tags": []
   },
   "outputs": [],
   "source": [
    "# modules we'll use\n",
    "import pandas as pd\n",
    "import numpy as np\n",
    "\n",
    "# helpful character encoding module\n",
    "import chardet\n",
    "\n",
    "# set seed for reproducibility\n",
    "np.random.seed(0)"
   ]
  },
  {
   "cell_type": "markdown",
   "id": "207a8bed",
   "metadata": {
    "papermill": {
     "duration": 0.005444,
     "end_time": "2022-07-09T02:36:20.163786",
     "exception": false,
     "start_time": "2022-07-09T02:36:20.158342",
     "status": "completed"
    },
    "tags": []
   },
   "source": [
    "# 1) What are encodings?\n",
    "\n",
    "You're working with a dataset composed of bytes.  Run the code cell below to print a sample entry."
   ]
  },
  {
   "cell_type": "code",
   "execution_count": 3,
   "id": "99579fa5",
   "metadata": {
    "execution": {
     "iopub.execute_input": "2022-07-09T02:36:20.176817Z",
     "iopub.status.busy": "2022-07-09T02:36:20.176319Z",
     "iopub.status.idle": "2022-07-09T02:36:20.182531Z",
     "shell.execute_reply": "2022-07-09T02:36:20.181033Z"
    },
    "papermill": {
     "duration": 0.015337,
     "end_time": "2022-07-09T02:36:20.184574",
     "exception": false,
     "start_time": "2022-07-09T02:36:20.169237",
     "status": "completed"
    },
    "tags": []
   },
   "outputs": [
    {
     "name": "stdout",
     "output_type": "stream",
     "text": [
      "b'\\xa7A\\xa6n'\n",
      "data type: <class 'bytes'>\n"
     ]
    }
   ],
   "source": [
    "sample_entry = b'\\xa7A\\xa6n'\n",
    "print(sample_entry)\n",
    "print('data type:', type(sample_entry))"
   ]
  },
  {
   "cell_type": "markdown",
   "id": "131b005e",
   "metadata": {
    "papermill": {
     "duration": 0.005303,
     "end_time": "2022-07-09T02:36:20.195436",
     "exception": false,
     "start_time": "2022-07-09T02:36:20.190133",
     "status": "completed"
    },
    "tags": []
   },
   "source": [
    "You notice that it doesn't use the standard UTF-8 encoding. \n",
    "\n",
    "Use the next code cell to create a variable `new_entry` that changes the encoding from `\"big5-tw\"` to `\"utf-8\"`.  `new_entry` should have the bytes datatype."
   ]
  },
  {
   "cell_type": "code",
   "execution_count": 4,
   "id": "22b6a56b",
   "metadata": {
    "execution": {
     "iopub.execute_input": "2022-07-09T02:36:20.208459Z",
     "iopub.status.busy": "2022-07-09T02:36:20.207746Z",
     "iopub.status.idle": "2022-07-09T02:36:20.219386Z",
     "shell.execute_reply": "2022-07-09T02:36:20.218208Z"
    },
    "papermill": {
     "duration": 0.020741,
     "end_time": "2022-07-09T02:36:20.221683",
     "exception": false,
     "start_time": "2022-07-09T02:36:20.200942",
     "status": "completed"
    },
    "tags": []
   },
   "outputs": [
    {
     "data": {
      "application/javascript": [
       "parent.postMessage({\"jupyterEvent\": \"custom.exercise_interaction\", \"data\": {\"outcomeType\": 1, \"valueTowardsCompletion\": 0.3333333333333333, \"interactionType\": 1, \"questionType\": 1, \"questionId\": \"1_EncodingsIntro\", \"learnToolsVersion\": \"0.3.4\", \"failureMessage\": \"\", \"exceptionClass\": \"\", \"trace\": \"\"}}, \"*\")"
      ],
      "text/plain": [
       "<IPython.core.display.Javascript object>"
      ]
     },
     "metadata": {},
     "output_type": "display_data"
    },
    {
     "data": {
      "text/markdown": [
       "<span style=\"color:#33cc33\">Correct</span>"
      ],
      "text/plain": [
       "Correct"
      ]
     },
     "metadata": {},
     "output_type": "display_data"
    }
   ],
   "source": [
    "sample_entry=sample_entry.decode(\"big5-tw\")\n",
    "new_entry = sample_entry.encode(\"utf-8\")\n",
    "# nCheck your answer\n",
    "q1.check()"
   ]
  },
  {
   "cell_type": "code",
   "execution_count": 5,
   "id": "25c13918",
   "metadata": {
    "execution": {
     "iopub.execute_input": "2022-07-09T02:36:20.235535Z",
     "iopub.status.busy": "2022-07-09T02:36:20.234920Z",
     "iopub.status.idle": "2022-07-09T02:36:20.239495Z",
     "shell.execute_reply": "2022-07-09T02:36:20.238551Z"
    },
    "papermill": {
     "duration": 0.014047,
     "end_time": "2022-07-09T02:36:20.241718",
     "exception": false,
     "start_time": "2022-07-09T02:36:20.227671",
     "status": "completed"
    },
    "tags": []
   },
   "outputs": [],
   "source": [
    "# Lines below will give you a hint or solution code\n",
    "#q1.hint()\n",
    "#q1.solution()"
   ]
  },
  {
   "cell_type": "markdown",
   "id": "e01c419d",
   "metadata": {
    "papermill": {
     "duration": 0.005501,
     "end_time": "2022-07-09T02:36:20.253171",
     "exception": false,
     "start_time": "2022-07-09T02:36:20.247670",
     "status": "completed"
    },
    "tags": []
   },
   "source": [
    "# 2) Reading in files with encoding problems\n",
    "\n",
    "Use the code cell below to read in this file at path `\"../input/fatal-police-shootings-in-the-us/PoliceKillingsUS.csv\"`.  \n",
    "\n",
    "Figure out what the correct encoding should be and read in the file to a DataFrame `police_killings`."
   ]
  },
  {
   "cell_type": "code",
   "execution_count": 6,
   "id": "74110c39",
   "metadata": {
    "execution": {
     "iopub.execute_input": "2022-07-09T02:36:20.266402Z",
     "iopub.status.busy": "2022-07-09T02:36:20.265779Z",
     "iopub.status.idle": "2022-07-09T02:36:21.806876Z",
     "shell.execute_reply": "2022-07-09T02:36:21.805706Z"
    },
    "papermill": {
     "duration": 1.550616,
     "end_time": "2022-07-09T02:36:21.809407",
     "exception": false,
     "start_time": "2022-07-09T02:36:20.258791",
     "status": "completed"
    },
    "tags": []
   },
   "outputs": [
    {
     "name": "stdout",
     "output_type": "stream",
     "text": [
      "{'encoding': 'Windows-1252', 'confidence': 0.73, 'language': ''}\n"
     ]
    }
   ],
   "source": [
    "with open(\"../input/fatal-police-shootings-in-the-us/PoliceKillingsUS.csv\", 'rb') as rawdata:\n",
    "    result = chardet.detect(rawdata.read(100000))\n",
    "\n",
    "# check what the character encoding might be\n",
    "print(result)"
   ]
  },
  {
   "cell_type": "code",
   "execution_count": 7,
   "id": "1a4fbfd5",
   "metadata": {
    "execution": {
     "iopub.execute_input": "2022-07-09T02:36:21.823899Z",
     "iopub.status.busy": "2022-07-09T02:36:21.823467Z",
     "iopub.status.idle": "2022-07-09T02:36:21.844994Z",
     "shell.execute_reply": "2022-07-09T02:36:21.844191Z"
    },
    "papermill": {
     "duration": 0.030672,
     "end_time": "2022-07-09T02:36:21.846854",
     "exception": false,
     "start_time": "2022-07-09T02:36:21.816182",
     "status": "completed"
    },
    "tags": []
   },
   "outputs": [
    {
     "data": {
      "application/javascript": [
       "parent.postMessage({\"jupyterEvent\": \"custom.exercise_interaction\", \"data\": {\"outcomeType\": 1, \"valueTowardsCompletion\": 0.3333333333333333, \"interactionType\": 1, \"questionType\": 1, \"questionId\": \"2_ReadIn\", \"learnToolsVersion\": \"0.3.4\", \"failureMessage\": \"\", \"exceptionClass\": \"\", \"trace\": \"\"}}, \"*\")"
      ],
      "text/plain": [
       "<IPython.core.display.Javascript object>"
      ]
     },
     "metadata": {},
     "output_type": "display_data"
    },
    {
     "data": {
      "text/markdown": [
       "<span style=\"color:#33cc33\">Correct</span>"
      ],
      "text/plain": [
       "Correct"
      ]
     },
     "metadata": {},
     "output_type": "display_data"
    }
   ],
   "source": [
    "# TODO: Load in the DataFrame correctly.\n",
    "police_killings = pd.read_csv(\"../input/fatal-police-shootings-in-the-us/PoliceKillingsUS.csv\",encoding=\"Windows-1252\")\n",
    "\n",
    "# Check your answer\n",
    "q2.check()"
   ]
  },
  {
   "cell_type": "markdown",
   "id": "256b3754",
   "metadata": {
    "papermill": {
     "duration": 0.006025,
     "end_time": "2022-07-09T02:36:21.859037",
     "exception": false,
     "start_time": "2022-07-09T02:36:21.853012",
     "status": "completed"
    },
    "tags": []
   },
   "source": [
    "Feel free to use any additional code cells for supplemental work.  To get credit for finishing this question, you'll need to run `q2.check()` and get a result of **Correct**."
   ]
  },
  {
   "cell_type": "code",
   "execution_count": 8,
   "id": "e723ac68",
   "metadata": {
    "execution": {
     "iopub.execute_input": "2022-07-09T02:36:21.873456Z",
     "iopub.status.busy": "2022-07-09T02:36:21.872856Z",
     "iopub.status.idle": "2022-07-09T02:36:21.876933Z",
     "shell.execute_reply": "2022-07-09T02:36:21.876198Z"
    },
    "papermill": {
     "duration": 0.01368,
     "end_time": "2022-07-09T02:36:21.878845",
     "exception": false,
     "start_time": "2022-07-09T02:36:21.865165",
     "status": "completed"
    },
    "tags": []
   },
   "outputs": [],
   "source": [
    "# (Optional) Use this code cell for any additional work."
   ]
  },
  {
   "cell_type": "code",
   "execution_count": 9,
   "id": "8be0be15",
   "metadata": {
    "execution": {
     "iopub.execute_input": "2022-07-09T02:36:21.892920Z",
     "iopub.status.busy": "2022-07-09T02:36:21.892284Z",
     "iopub.status.idle": "2022-07-09T02:36:21.896046Z",
     "shell.execute_reply": "2022-07-09T02:36:21.895104Z"
    },
    "papermill": {
     "duration": 0.01319,
     "end_time": "2022-07-09T02:36:21.898078",
     "exception": false,
     "start_time": "2022-07-09T02:36:21.884888",
     "status": "completed"
    },
    "tags": []
   },
   "outputs": [],
   "source": [
    "# Lines below will give you a hint or solution code\n",
    "#q2.hint()\n",
    "#q2.solution()"
   ]
  },
  {
   "cell_type": "markdown",
   "id": "860ab2c0",
   "metadata": {
    "papermill": {
     "duration": 0.005718,
     "end_time": "2022-07-09T02:36:21.909981",
     "exception": false,
     "start_time": "2022-07-09T02:36:21.904263",
     "status": "completed"
    },
    "tags": []
   },
   "source": [
    "# 3) Saving your files with UTF-8 encoding\n",
    "\n",
    "Save a version of the police killings dataset to CSV with UTF-8 encoding.  Your answer will be marked correct after saving this file.  \n",
    "\n",
    "Note: When using the `to_csv()` method, supply only the name of the file (e.g., `\"my_file.csv\"`).  This saves the file at the filepath `\"/kaggle/working/my_file.csv\"`."
   ]
  },
  {
   "cell_type": "code",
   "execution_count": 10,
   "id": "8e178168",
   "metadata": {
    "execution": {
     "iopub.execute_input": "2022-07-09T02:36:21.924176Z",
     "iopub.status.busy": "2022-07-09T02:36:21.923476Z",
     "iopub.status.idle": "2022-07-09T02:36:21.964306Z",
     "shell.execute_reply": "2022-07-09T02:36:21.963001Z"
    },
    "papermill": {
     "duration": 0.050443,
     "end_time": "2022-07-09T02:36:21.966460",
     "exception": false,
     "start_time": "2022-07-09T02:36:21.916017",
     "status": "completed"
    },
    "tags": []
   },
   "outputs": [
    {
     "data": {
      "application/javascript": [
       "parent.postMessage({\"jupyterEvent\": \"custom.exercise_interaction\", \"data\": {\"outcomeType\": 1, \"valueTowardsCompletion\": 0.3333333333333333, \"interactionType\": 1, \"questionType\": 2, \"questionId\": \"3_SaveCSV\", \"learnToolsVersion\": \"0.3.4\", \"failureMessage\": \"\", \"exceptionClass\": \"\", \"trace\": \"\"}}, \"*\")"
      ],
      "text/plain": [
       "<IPython.core.display.Javascript object>"
      ]
     },
     "metadata": {},
     "output_type": "display_data"
    },
    {
     "data": {
      "text/markdown": [
       "<span style=\"color:#33cc33\">Correct</span>"
      ],
      "text/plain": [
       "Correct"
      ]
     },
     "metadata": {},
     "output_type": "display_data"
    }
   ],
   "source": [
    "# TODO: Save the police killings dataset to CSV\n",
    "\n",
    "police_killings.to_csv(\"/kaggle/working/my_file.csv\")\n",
    "# Check your answer\n",
    "q3.check()"
   ]
  },
  {
   "cell_type": "code",
   "execution_count": 11,
   "id": "fbd70aef",
   "metadata": {
    "execution": {
     "iopub.execute_input": "2022-07-09T02:36:21.982027Z",
     "iopub.status.busy": "2022-07-09T02:36:21.981548Z",
     "iopub.status.idle": "2022-07-09T02:36:21.985904Z",
     "shell.execute_reply": "2022-07-09T02:36:21.985016Z"
    },
    "papermill": {
     "duration": 0.01509,
     "end_time": "2022-07-09T02:36:21.988103",
     "exception": false,
     "start_time": "2022-07-09T02:36:21.973013",
     "status": "completed"
    },
    "tags": []
   },
   "outputs": [],
   "source": [
    "# Lines below will give you a hint or solution code\n",
    "#q3.hint()\n",
    "#q3.solution()"
   ]
  },
  {
   "cell_type": "markdown",
   "id": "1a684ad1",
   "metadata": {
    "papermill": {
     "duration": 0.006178,
     "end_time": "2022-07-09T02:36:22.000833",
     "exception": false,
     "start_time": "2022-07-09T02:36:21.994655",
     "status": "completed"
    },
    "tags": []
   },
   "source": [
    "# (Optional) More practice\n",
    "\n",
    "Check out [this dataset of files in different character encodings](https://www.kaggle.com/rtatman/character-encoding-examples). Can you read in all the files with their original encodings and them save them out as UTF-8 files?\n",
    "\n",
    "If you have a file that's in UTF-8 but has just a couple of weird-looking characters in it, you can try out the [ftfy module](https://ftfy.readthedocs.io/en/latest/#) and see if it helps. \n",
    "\n",
    "# Keep going\n",
    "\n",
    "In the final lesson, learn how to [**clean up inconsistent text entries**](https://www.kaggle.com/alexisbcook/inconsistent-data-entry) in your dataset."
   ]
  },
  {
   "cell_type": "markdown",
   "id": "c206e9d7",
   "metadata": {
    "papermill": {
     "duration": 0.006154,
     "end_time": "2022-07-09T02:36:22.013407",
     "exception": false,
     "start_time": "2022-07-09T02:36:22.007253",
     "status": "completed"
    },
    "tags": []
   },
   "source": [
    "---\n",
    "\n",
    "\n",
    "\n",
    "\n",
    "*Have questions or comments? Visit the [course discussion forum](https://www.kaggle.com/learn/data-cleaning/discussion) to chat with other learners.*"
   ]
  }
 ],
 "metadata": {
  "kernelspec": {
   "display_name": "Python 3",
   "language": "python",
   "name": "python3"
  },
  "language_info": {
   "codemirror_mode": {
    "name": "ipython",
    "version": 3
   },
   "file_extension": ".py",
   "mimetype": "text/x-python",
   "name": "python",
   "nbconvert_exporter": "python",
   "pygments_lexer": "ipython3",
   "version": "3.7.12"
  },
  "papermill": {
   "default_parameters": {},
   "duration": 12.608355,
   "end_time": "2022-07-09T02:36:22.641463",
   "environment_variables": {},
   "exception": null,
   "input_path": "__notebook__.ipynb",
   "output_path": "__notebook__.ipynb",
   "parameters": {},
   "start_time": "2022-07-09T02:36:10.033108",
   "version": "2.3.4"
  }
 },
 "nbformat": 4,
 "nbformat_minor": 5
}
